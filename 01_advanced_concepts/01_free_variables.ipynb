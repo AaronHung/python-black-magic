{
 "cells": [
  {
   "cell_type": "markdown",
   "metadata": {},
   "source": [
    "##  自由變數 Free Variables"
   ]
  },
  {
   "cell_type": "markdown",
   "metadata": {},
   "source": [
    "#### 在 Python 中，自由變數（free variable）指的是函數內部使用但未在該函數內部定義，而是來自外部作用域的變數。例如：\n",
    "\n",
    "```python\n",
    "def outer():\n",
    "    x = 10  # x 是 outer() 內部的變數\n",
    "\n",
    "    def inner():\n",
    "        print(x)  # x 是自由變數，來自 outer()\n",
    "\n",
    "    inner()\n",
    "```\n",
    "\n",
    "#### 自由變數只能被讀取，若嘗試賦值，Python 會視為新變數，需用 `nonlocal` 修改封閉作用域的變數。"
   ]
  },
  {
   "cell_type": "markdown",
   "metadata": {},
   "source": [
    "\n",
    "### **1. Python 的自由變數**\n",
    "#### 在 Python 中，變數的作用域主要分為：  \n",
    "\n",
    "> - **區域變數（Local Variable）**：在函數內部定義並使用的變數。\n",
    "> - **全域變數（Global Variable）**：在整個模組範圍內有效的變數。\n",
    "> - **非區域變數（Nonlocal Variable）**：在內部函數使用，但來自於外部封閉函數的變數。\n",
    "> - **自由變數（Free Variable）**：函數內部使用但沒有在函數內部定義的變數（通常是從封閉的外部作用域引用）。\n",
    "> \n",
    "#### **舉例：**\n"
   ]
  },
  {
   "cell_type": "code",
   "execution_count": 1,
   "metadata": {},
   "outputs": [
    {
     "name": "stdout",
     "output_type": "stream",
     "text": [
      "10\n"
     ]
    }
   ],
   "source": [
    "def outer():\n",
    "    x = 10  # x 是 outer() 內部的變數\n",
    "\n",
    "    def inner():\n",
    "        print(x)  # x 是自由變數，因為它未在 inner() 內定義，但來自 outer()\n",
    "    \n",
    "    inner()\n",
    "\n",
    "outer()  # 會輸出 10"
   ]
  },
  {
   "cell_type": "markdown",
   "metadata": {},
   "source": [
    "#### 在這個例子中：\n",
    "> - `x` 是 **自由變數**，因為它在 `inner()` 內被使用，但它本身是在 `outer()` 定義的，而不是在 `inner()` 內部定義的。\n",
    "> - `x` 不是 `inner()` 的本地變數（local variable），但它是 `outer()` 作用域內的變數。\n",
    "\n",
    "---\n"
   ]
  },
  {
   "cell_type": "markdown",
   "metadata": {},
   "source": [
    "\n",
    "### **2. `nonlocal` 關鍵字與自由變數的關係**\n",
    "#### 當你希望在內部函數中修改來自外部函數作用域的變數時，`nonlocal` 就派上用場了。\n",
    "\n",
    "#### 如果我們嘗試修改 `x` 而沒有 `nonlocal`，Python 會假設我們想要在 `inner()` 內部創建一個新的局部變數，而不會改變 `outer()` 內的 `x`：\n"
   ]
  },
  {
   "cell_type": "code",
   "execution_count": null,
   "metadata": {},
   "outputs": [],
   "source": [
    "def outer():\n",
    "    x = 10  # 來自外部函數的變數\n",
    "\n",
    "    def inner():\n",
    "        x = 20  # 這樣做會在 inner() 內部創建一個新的變數，而不會修改 outer() 的 x\n",
    "    \n",
    "    inner()\n",
    "    print(x)  # 仍然會輸出 10，因為 outer() 的 x 沒有被改變\n",
    "\n",
    "outer()"
   ]
  },
  {
   "cell_type": "markdown",
   "metadata": {},
   "source": [
    "#### 如果我們想要 **修改** 外部函數作用域的變數，需要使用 `nonlocal`：\n"
   ]
  },
  {
   "cell_type": "code",
   "execution_count": null,
   "metadata": {},
   "outputs": [],
   "source": [
    "def outer():\n",
    "    x = 10\n",
    "\n",
    "    def inner():\n",
    "        nonlocal x  # 告訴 Python 我們要修改外部作用域的 x\n",
    "        x = 20\n",
    "    \n",
    "    inner()\n",
    "    print(x)  # 這次會輸出 20，因為 outer() 的 x 被修改了\n",
    "\n",
    "outer()\n"
   ]
  },
  {
   "cell_type": "markdown",
   "metadata": {},
   "source": [
    "#### 這裡的 `nonlocal x` 讓 `inner()` 內的 `x` 不再是新的局部變數，而是直接影響 `outer()` 內的 `x`。\n",
    "\n",
    "---\n",
    "\n"
   ]
  },
  {
   "cell_type": "markdown",
   "metadata": {},
   "source": [
    "### **3. `free variable` vs. `nonlocal`**\n",
    "|  | **自由變數（Free Variable）** | **`nonlocal` 變數** |\n",
    "|---|---|---|\n",
    "| **定義** | 在函數內部使用，但未在函數內部定義，而是來自外部作用域的變數 | 來自外部封閉作用域的變數，並且希望在內部函數中修改它 |\n",
    "| **是否可以修改** | **不能直接修改**（如果嘗試賦值，會創建新的區域變數） | **可以修改**，需用 `nonlocal` 明確聲明 |\n",
    "| **例子** | `print(x)`（x 來自外部作用域） | `nonlocal x; x = 20` |\n",
    "| **作用範圍** | 只能在函數內部「讀取」外部變數，但不能改變 | `nonlocal` 允許內部函數修改外部變數 |\n",
    "\n",
    "---\n",
    "\n"
   ]
  },
  {
   "cell_type": "markdown",
   "metadata": {},
   "source": [
    "### **4. `global` vs. `nonlocal`**\n",
    "#### 這裡再補充一下 `global` 和 `nonlocal` 的區別：\n"
   ]
  },
  {
   "cell_type": "code",
   "execution_count": null,
   "metadata": {},
   "outputs": [],
   "source": [
    "x = 10  # 全域變數\n",
    "\n",
    "def func():\n",
    "    global x  # 讓 x 指向全域變數\n",
    "    x = 20  # 這會改變全域變數 x\n",
    "\n",
    "func()\n",
    "print(x)  # 輸出 20\n"
   ]
  },
  {
   "cell_type": "markdown",
   "metadata": {},
   "source": [
    "- `global` 允許函數內部直接修改全域變數，而 `nonlocal` 則是在多層函數的作用域中修改變數。\n",
    "- `free variable` 則只是讀取外部變數，不能修改。\n",
    "\n",
    "---\n",
    "\n"
   ]
  },
  {
   "cell_type": "markdown",
   "metadata": {},
   "source": [
    "### **5. 總結**\n",
    "- **自由變數**：在函數內部使用但未在函數內部定義的變數，它來自外部作用域，**只能讀取，不能直接修改**。\n",
    "- **`nonlocal` 變數**：來自外部封閉作用域的變數，可以使用 `nonlocal` 來允許內部函數修改它。\n",
    "- **如果在函數內試圖直接賦值給自由變數，Python 會把它當成一個新的區域變數，而不會影響外部變數。**\n",
    "\n",
    "這就是為什麼自由變數與 `nonlocal` 有些相似，但最大的區別就是 **自由變數無法直接修改，`nonlocal` 則允許修改非全域的外部變數**。"
   ]
  },
  {
   "cell_type": "markdown",
   "metadata": {},
   "source": [
    "## 關於`自由`\n",
    "「自由變數」之所以稱為「自由」，其實來自於數學和邏輯中的概念，這個「自由」主要是相對於「束縛變數」（bound variable）來說的。\n",
    "\n",
    "### 1. **自由變數 vs. 束縛變數**\n",
    "- **自由變數（free variable）**：在數學、邏輯、程式語言等領域中，指的是不受明確約束或定義的變數。它可以被視為「未指定」的變數，具有一定的自由度。例如，在數學方程式 \\( f(x) = x + 2 \\) 中，\\( x \\) 就是自由變數，因為它可以取任何值，沒有被特定約束。\n",
    "- **束縛變數（bound variable）**：相反地，當一個變數被某種操作（如量詞、積分、函數定義等）所綁定，它就不再是自由的。例如：\n",
    "  - 在 \\(\\int_0^1 x^2 dx\\) 中，\\( x \\) 被積分符號束縛，表示它是積分範圍內的變數，不能任意改變。\n",
    "  - 在邏輯表達式 \\(\\forall x \\, (x > 0)\\) 中，\\( x \\) 受到「全稱量詞」\\(\\forall x\\) 的約束，因此不是自由變數。\n",
    "\n",
    "### 2. **「自由」的概念從何而來？**\n",
    "「自由變數」這個詞的「自由」體現在哪裡呢？主要有以下幾個層面：\n",
    "- **未受約束**：自由變數的值沒有被固定，可以任意選擇，而束縛變數則被特定操作約束，無法自由變化。\n",
    "- **外部決定性**：自由變數通常由外部環境或上下文決定，像是函數的輸入變數、未指定的參數等，而束縛變數的範圍則內部決定。\n",
    "- **語意上的開放性**：在邏輯或計算機科學中，自由變數表示一個尚未指定的值，在推理過程中可以視為「開放的」變數，而束縛變數則已經確定了作用範圍。\n",
    "\n",
    "### 3. **舉例說明**\n",
    "- **數學方程式**\n",
    "  - \\( y = x + 3 \\) 這裡的 \\( x \\) 是自由變數，因為它可以取任意值，而 \\( y \\) 是由 \\( x \\) 決定的。\n",
    "- **邏輯公式**\n",
    "  - \\( P(x) \\) 在邏輯語言中，如果沒有量詞（如 \\(\\forall x\\) 或 \\(\\exists x\\)）對 \\( x \\) 進行約束，那麼 \\( x \\) 就是自由變數。\n",
    "- **程式設計**\n",
    "  - 在函數 `def f(x): return x + 2`，\\( x \\) 是函數的參數，這在函數內部是自由變數，但在某些情況下，可能會被特定作用域綁定。\n",
    "\n",
    "### 4. **結論**\n",
    "「自由變數」的「自由」之處在於它的值沒有被內部機制限制，而是由外部環境決定或在某個範圍內任意選擇。相比之下，束縛變數則被某些數學或邏輯結構固定住，不能隨意更改。因此，「自由變數」這個名稱確實有其語意上的合理性，因為它保留了一定的「自由度」。"
   ]
  }
 ],
 "metadata": {
  "kernelspec": {
   "display_name": "ml-test1",
   "language": "python",
   "name": "python3"
  },
  "language_info": {
   "codemirror_mode": {
    "name": "ipython",
    "version": 3
   },
   "file_extension": ".py",
   "mimetype": "text/x-python",
   "name": "python",
   "nbconvert_exporter": "python",
   "pygments_lexer": "ipython3",
   "version": "3.11.8"
  }
 },
 "nbformat": 4,
 "nbformat_minor": 2
}
